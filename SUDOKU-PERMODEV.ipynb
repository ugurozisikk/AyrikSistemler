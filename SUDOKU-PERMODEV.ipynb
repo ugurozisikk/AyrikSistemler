{
  "nbformat": 4,
  "nbformat_minor": 0,
  "metadata": {
    "colab": {
      "name": "Untitled1.ipynb",
      "provenance": [],
      "collapsed_sections": [
        "-FwuJRSrEcNy",
        "PJLmoTHfEv1d"
      ]
    },
    "kernelspec": {
      "name": "python3",
      "display_name": "Python 3"
    }
  },
  "cells": [
    {
      "cell_type": "markdown",
      "metadata": {
        "id": "XTHv6nUd-4_8",
        "colab_type": "text"
      },
      "source": [
        "# **SUDOKU PROBLEMİ**"
      ]
    },
    {
      "cell_type": "markdown",
      "metadata": {
        "id": "UtZwCFZA_B9p",
        "colab_type": "text"
      },
      "source": [
        "**Sudoku**, her yaştan insanın temel mantıksal akıl yürütmelerle kolayca öğrenebileceği bir bulmaca oyunudur. Japonya'dan çıktığı bilinen oyun, japonca \"Suuji wa dokushin ni kagiru\" kelimelerinin birleşiminden \"**SUDOKU**\" tabirini almıştır.\n",
        "Oyunu tarif etmek için ise \"rakam yerleştirme\" demek yerinde olacaktır.\n",
        "\n",
        "**Sudoku** bulmacaları, büyüklüğüne ve çesidine göre isimlendirilmiştir. En meşhur olan resimde gördüğümüz 9x9 boyutlarındaki Klasik **Sudoku** çeşididir. Klasik **sudoku**, 9x9 boyutlarında, 9'ar karelik 9 bölgedeki 81 kareden oluşmaktadır. 1'den 9'a kadar olan rakamlar bu 81 kareye belirlenmiş kurallara göre yerleştirilerek oynanır.\n",
        "\n",
        "![9x9 Sudoku](https://tr-static.eodev.com/files/d3c/8f9399b104851c2b19a1da05c6661e20.png)"
      ]
    },
    {
      "cell_type": "markdown",
      "metadata": {
        "id": "4aDYlAxy_nge",
        "colab_type": "text"
      },
      "source": [
        "# ***Soru*** \n",
        "\n",
        "9x9 luk kareye her satırda ve her sütunda birer tane olmak üzere 1,2,3,..,9 rakamları yerleştirelecektir. Nasıl yerleştirilebilir? Kaç farklı şekilde yerleştirilebilir.\n"
      ]
    },
    {
      "cell_type": "markdown",
      "metadata": {
        "id": "M5ijk3DYAa9V",
        "colab_type": "text"
      },
      "source": [
        "# ***Çözüm***\n",
        "\n",
        "9 rakam ilk satıra 9! = 6 şekilde yerleştirilebilir. İkinci satırın birinci \n",
        "kutusuna 8 farklı rakam diğerine 8 farklı rakam yazılabilir ve sırasıyla yerleştirme işlemi bir eksiği şeklinde yapılarak devam edecektir.\n",
        "\n",
        "1. satır 9!\n",
        "2. satır 8!\n",
        "3. satır 7!\n",
        "4. satır 6!\n",
        "\n",
        ".\n",
        ".\n",
        ".\n",
        "\n",
        "9. satır 1!\n",
        "\n",
        "= 9! * 8 ! * .... * 1!\n",
        "\n",
        "\n"
      ]
    },
    {
      "cell_type": "markdown",
      "metadata": {
        "id": "9jKYgBaRBIyE",
        "colab_type": "text"
      },
      "source": [
        "# **Kod**"
      ]
    },
    {
      "cell_type": "markdown",
      "metadata": {
        "id": "-FwuJRSrEcNy",
        "colab_type": "text"
      },
      "source": [
        "### Uygun Mu Fonksiyonu\n",
        "\n",
        "    Verilen sayı, satır ve sütun'a uyuyor mu diye kontrol eder, Bu kod parçası internetten alınmıştır sorunun görselleştirmesi için kullanılmıştır.\n",
        "\n",
        "    puzzle: 9x9'luk sayılardan oluşan puzzle\n",
        "    satir: Bakılacak satır\n",
        "    sutun: Bakılacak sütun\n",
        "    sayi: Denenecek sayı\n",
        "    returns: Uygunsa True değilse False "
      ]
    },
    {
      "cell_type": "code",
      "metadata": {
        "id": "_UuaaEgwBC9o",
        "colab_type": "code",
        "colab": {}
      },
      "source": [
        "\n",
        "\n",
        "def uygun_mu(puzzle, satir, sutun, sayi):   \n",
        "\n",
        "    satir_baslangici = int(satir / 3) * 3\n",
        "    sutun_baslangici = int(sutun / 3) * 3\n",
        "\n",
        "    for i in range(9):\n",
        "        if (puzzle[satir][i] == sayi or\n",
        "                puzzle[i][sutun] == sayi or\n",
        "                puzzle[satir_baslangici + (i % 3)]\n",
        "                      [sutun_baslangici + int(i / 3)] == sayi):\n",
        "            return False\n",
        "\n",
        "    return True\n",
        "\n",
        "\n"
      ],
      "execution_count": 0,
      "outputs": []
    },
    {
      "cell_type": "markdown",
      "metadata": {
        "id": "PJLmoTHfEv1d",
        "colab_type": "text"
      },
      "source": [
        "# Çözen Fonksiyon\n",
        "\n",
        "    Sudoku çözen fonksiyon\n",
        "\n",
        "    puzzle: 9x9 luk sayılardan oluşan puzzle\n",
        "    satir: Çözülecek satır\n",
        "    sutun: Çözülecek sütun\n",
        "    returns: Puzzle çözüldüyse True, çözülemediyse False\n",
        "    \n"
      ]
    },
    {
      "cell_type": "code",
      "metadata": {
        "id": "OUD_BnaoExYc",
        "colab_type": "code",
        "colab": {}
      },
      "source": [
        "def sudoku_coz(puzzle, satir=0, sutun=0):\n",
        "\n",
        "    # Bakılan kutu asla 9'dan büyük olamaz\n",
        "    if puzzle[satir][sutun] > 9:\n",
        "        return False\n",
        "    # Bakılan kutu zaten çözülmüşse sonrakine geç\n",
        "    elif puzzle[satir][sutun] != 0:\n",
        "        if (sutun + 1) < 9:\n",
        "            return sudoku_coz(puzzle, satir, sutun + 1)\n",
        "        elif (satir + 1) < 9:\n",
        "            return sudoku_coz(puzzle, satir + 1, 0)\n",
        "        else:\n",
        "            return True\n",
        "\n",
        "    for i in range(9):\n",
        "        if uygun_mu(puzzle, satir, sutun, i + 1):\n",
        "            puzzle[satir][sutun] = i + 1\n",
        "\n",
        "            if (sutun + 1) < 9:\n",
        "                if sudoku_coz(puzzle, satir, sutun + 1):\n",
        "                    return True\n",
        "                puzzle[satir][sutun] = 0\n",
        "            elif (satir + 1) < 9:\n",
        "                if sudoku_coz(puzzle, satir + 1, 0):\n",
        "                    return True\n",
        "                puzzle[satir][sutun] = 0\n",
        "            else:\n",
        "                return True\n",
        "\n",
        "    return False\n"
      ],
      "execution_count": 0,
      "outputs": []
    },
    {
      "cell_type": "markdown",
      "metadata": {
        "id": "aEwHEzuXE6Sh",
        "colab_type": "text"
      },
      "source": [
        "# Görselleştirme"
      ]
    },
    {
      "cell_type": "code",
      "metadata": {
        "id": "fxywFz8qE-m_",
        "colab_type": "code",
        "colab": {
          "base_uri": "https://localhost:8080/",
          "height": 202
        },
        "outputId": "54b8ce86-bb66-438a-8a93-dd9fdeb1121d"
      },
      "source": [
        "def print_puzzle(puzzle):\n",
        "\n",
        "    for i in range(9):\n",
        "        if i > 0 and i % 3 == 0:\n",
        "            print('|' + '-' * 7 + '|' + '-' * 7 + '|' + '-' * 7 + '|')\n",
        "        print('|', end=' ')\n",
        "        for j in range(9):\n",
        "            print(puzzle[i][j], end=' ')\n",
        "            if (j + 1) % 3 == 0:\n",
        "                print('|', end=' ')\n",
        "        print()\n",
        "\n",
        "\n",
        "if __name__ == \"__main__\":\n",
        "    puzzle = [\n",
        "        [3, 2, 1, 7, 0, 4, 0, 0, 0],\n",
        "        [6, 4, 0, 0, 9, 0, 0, 0, 7],\n",
        "        [0, 0, 0, 0, 0, 0, 0, 0, 0],\n",
        "        [0, 0, 0, 0, 4, 5, 9, 0, 0],\n",
        "        [0, 0, 5, 1, 8, 7, 4, 0, 0],\n",
        "        [0, 0, 4, 9, 6, 0, 0, 0, 0],\n",
        "        [0, 0, 0, 0, 0, 0, 0, 0, 0],\n",
        "        [2, 0, 0, 0, 7, 0, 0, 1, 9],\n",
        "        [0, 0, 0, 6, 0, 9, 5, 8, 2]\n",
        "    ]\n",
        "    if (sudoku_coz(puzzle)):\n",
        "        print_puzzle(puzzle)"
      ],
      "execution_count": 18,
      "outputs": [
        {
          "output_type": "stream",
          "text": [
            "| 3 2 1 | 7 5 4 | 6 9 8 | \n",
            "| 6 4 8 | 2 9 3 | 1 5 7 | \n",
            "| 5 7 9 | 8 1 6 | 2 3 4 | \n",
            "|-------|-------|-------|\n",
            "| 7 8 2 | 3 4 5 | 9 6 1 | \n",
            "| 9 6 5 | 1 8 7 | 4 2 3 | \n",
            "| 1 3 4 | 9 6 2 | 8 7 5 | \n",
            "|-------|-------|-------|\n",
            "| 8 9 3 | 5 2 1 | 7 4 6 | \n",
            "| 2 5 6 | 4 7 8 | 3 1 9 | \n",
            "| 4 1 7 | 6 3 9 | 5 8 2 | \n"
          ],
          "name": "stdout"
        }
      ]
    },
    {
      "cell_type": "markdown",
      "metadata": {
        "id": "7phOiIhoK7ya",
        "colab_type": "text"
      },
      "source": [
        "**KAÇ FARKLI ŞEKİLDE OLUR?**"
      ]
    },
    {
      "cell_type": "code",
      "metadata": {
        "id": "zmYxcyEmK7Rf",
        "colab_type": "code",
        "colab": {
          "base_uri": "https://localhost:8080/",
          "height": 202
        },
        "outputId": "c876ad68-3c05-46a8-a0c5-b52a86e5cb0e"
      },
      "source": [
        "def Faktoriyel(i):\n",
        "    \n",
        "    if i==1:       \n",
        "        return 1\n",
        "    \n",
        "    else: \n",
        "        return i * Faktoriyel(i-1)\n",
        "    \n",
        "\n",
        "toplam = 1\n",
        "for i in range(1,10):\n",
        "    print(i , '. Satır  = ',i,'!')\n",
        "    toplam = toplam * Faktoriyel(i)\n",
        "       \n",
        "\n",
        "print(\"\\nSonuç:\", toplam )"
      ],
      "execution_count": 31,
      "outputs": [
        {
          "output_type": "stream",
          "text": [
            "1 . Satır  =  1 !\n",
            "2 . Satır  =  2 !\n",
            "3 . Satır  =  3 !\n",
            "4 . Satır  =  4 !\n",
            "5 . Satır  =  5 !\n",
            "6 . Satır  =  6 !\n",
            "7 . Satır  =  7 !\n",
            "8 . Satır  =  8 !\n",
            "9 . Satır  =  9 !\n",
            "\n",
            "Sonuç: 1834933472251084800000\n"
          ],
          "name": "stdout"
        }
      ]
    }
  ]
}
