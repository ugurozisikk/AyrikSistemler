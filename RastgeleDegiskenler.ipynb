{
  "nbformat": 4,
  "nbformat_minor": 0,
  "metadata": {
    "colab": {
      "name": "RastgeleDegiskenler.ipynb",
      "provenance": [],
      "collapsed_sections": [],
      "authorship_tag": "ABX9TyO0OVeeaY84Yv/dgKus7cOJ",
      "include_colab_link": true
    },
    "kernelspec": {
      "name": "python3",
      "display_name": "Python 3"
    }
  },
  "cells": [
    {
      "cell_type": "markdown",
      "metadata": {
        "id": "view-in-github",
        "colab_type": "text"
      },
      "source": [
        "<a href=\"https://colab.research.google.com/github/ugurozisikk/AyrikSistemler/blob/master/RastgeleDegiskenler.ipynb\" target=\"_parent\"><img src=\"https://colab.research.google.com/assets/colab-badge.svg\" alt=\"Open In Colab\"/></a>"
      ]
    },
    {
      "cell_type": "markdown",
      "metadata": {
        "id": "mLYLAmuDVVtO",
        "colab_type": "text"
      },
      "source": [
        "**Bernoulli Rastgele Değişkenleri**\n",
        "\n",
        "**Soru:** Kocaeli Üniversitesi bilgisayar mühendisliği bölümünden mezun olan 120 öğrenciden birinin yurtdışında çalıştığı bilinmektedir. 2020 yılında mezun olan  120 öğrenci arasından seçilen bir öğrencinin yurtdışında çalışma olasılığı nedir?\n",
        "\n",
        "\n",
        "**Cevap:** Bernoulli **f(x)** fonksiyonu için formülümüz aşağıdaki gibidir. p ve q tabirleri için başarı ve başarısızlık terimleri kullanacağım.\n",
        "\n",
        "![alt text](https://miro.medium.com/max/2028/1*KvnadxZI-Q-V9D9A4iEhfg.png)\n",
        "\n",
        "Bu örnekte **başarı = Bankacılık sektöründe çalışması**, **başarısızlık = çalışmaması** diyerek **f(x)** fonksiyonunu şekillendirelim.\n",
        "\n",
        "x = {0,1}\n",
        "\n",
        "p(Başarı) = **Başarı olasılığı** = 1/ 120 \n",
        "\n",
        "\n",
        "q(Başarısızlık) = (1-p)'yi **başarısızlık** = 119/120 \n",
        "\n",
        "\n",
        "f(x) = p^x * (1-p)^1-x\n",
        "\n",
        "\n",
        "f(1) = (1/120)^1 * (119/120)^1-1  **-> yurdışında çalışma olasılığı**\n",
        "\n",
        "f(0) = (1/120)^0 * (119/120)^1-0  **-> yurdışında çalışmama olasılığı**"
      ]
    },
    {
      "cell_type": "markdown",
      "metadata": {
        "id": "9cJzJblqb5tc",
        "colab_type": "text"
      },
      "source": [
        "\n",
        "**Bernoulli Fonksiyonu**"
      ]
    },
    {
      "cell_type": "code",
      "metadata": {
        "id": "txXt6K72T0gr",
        "colab_type": "code",
        "colab": {}
      },
      "source": [
        "def bernoulliFunc(p, x):\n",
        "  fxFunction = pow(p,x) * pow((1-p),(1-x))\n",
        "  return fxFunction"
      ],
      "execution_count": 0,
      "outputs": []
    },
    {
      "cell_type": "code",
      "metadata": {
        "id": "xHzD7Bm8cHvP",
        "colab_type": "code",
        "colab": {
          "base_uri": "https://localhost:8080/",
          "height": 34
        },
        "outputId": "937aa78f-6574-4bc8-d7c2-c7cd30968811"
      },
      "source": [
        "totalSpace = 200\n",
        "exampleSpace = 1 \n",
        "\n",
        "#Başarı durumları true, false gibi -> 1 = yurtdışında çalışma, 0 = çalışmama durumu\n",
        "x = [0,1]\n",
        "\n",
        "basari = bernoulliFunc(exampleSpace / totalSpace, 1)\n",
        "print(\"Yurtdışında çalışma olasılığı = \", result)\n",
        "\n",
        "basarisizlik = bernoulliFunc(exampleSpace / totalSpace, 0)\n",
        "print(\"Yurtdışında çalışmama olasılığı = \", result)\n"
      ],
      "execution_count": 7,
      "outputs": [
        {
          "output_type": "stream",
          "text": [
            "Result =  0.30000000000000004\n"
          ],
          "name": "stdout"
        }
      ]
    },
    {
      "cell_type": "markdown",
      "metadata": {
        "id": "ApF0BvsggJah",
        "colab_type": "text"
      },
      "source": [
        "                    \n",
        "\n",
        "---\n",
        "\n"
      ]
    },
    {
      "cell_type": "markdown",
      "metadata": {
        "id": "oh0RZcKmdl79",
        "colab_type": "text"
      },
      "source": [
        "**Binom Rastgele Değişkenleri**\n",
        "\n",
        "**Soru:** Fenerbahçeli Volkan Demirel'in bir penaltıyı gole çevirme ihtimalinin 0.1 olduğunu bildiğimize göre arka arkaya kullandığı 5 penaltının 3 sini gol atma ihtimali nedir? \n",
        "\n",
        "\n",
        "**Cevap:** Binom olasılık formülü aşağıdaki gibidir. **Dikkat edersek bernoullinin tekrarlı halidir diyebiliriz.**\n",
        "\n",
        "![alt text](https://phhp-faculty-cantrell.sites.medinfo.ufl.edu/files/2013/02/mod8-binomform.png)\n",
        "\n",
        "**n = 5** (Tekrar Sayısı)\n",
        "\n",
        "**x = 3** (Başarılı Sonuç Sayısı)\n",
        "\n",
        "**p(Başarı) = Başarı olasılığı = 0.1**\n",
        "\n",
        "**q(Başarısızlık) = (1-p)'yi başarısızlık = 0.9**\n",
        "\n",
        "p(x) = (n,x) * p^x *  q^(n-x)\n",
        "\n",
        "p(x) = (5,2) * 0.1^3 *  0.9^(5-3) **-> 5 tane penaltıdan 3 tanesini gole çevirme olasılığı**\n",
        "\n"
      ]
    },
    {
      "cell_type": "markdown",
      "metadata": {
        "id": "KPITfVNOgtvc",
        "colab_type": "text"
      },
      "source": [
        "**Binom Fonksiyonu**"
      ]
    },
    {
      "cell_type": "code",
      "metadata": {
        "id": "RNTsoqU8gGQ1",
        "colab_type": "code",
        "colab": {}
      },
      "source": [
        "def Faktoriyel(i):\n",
        "    if i==1:       \n",
        "        return 1\n",
        "    else: \n",
        "        return i * Faktoriyel(i-1)"
      ],
      "execution_count": 0,
      "outputs": []
    },
    {
      "cell_type": "code",
      "metadata": {
        "id": "hEBE8PuJhYC8",
        "colab_type": "code",
        "colab": {}
      },
      "source": [
        "def Kombinasyon(n,r):\n",
        "    return int(Faktoriyel(n)/(Faktoriyel(n-r)*Faktoriyel(r)))"
      ],
      "execution_count": 0,
      "outputs": []
    },
    {
      "cell_type": "code",
      "metadata": {
        "id": "rzEbGbsxgq_k",
        "colab_type": "code",
        "colab": {}
      },
      "source": [
        "def binomFunc(p, n, x):\n",
        "  binomFunc = Kombinasyon(n,x) * pow((p),(x)) * pow((1-p),(n-x))\n",
        "  return binomFunc"
      ],
      "execution_count": 0,
      "outputs": []
    },
    {
      "cell_type": "code",
      "metadata": {
        "id": "oEjOqPw0h0KV",
        "colab_type": "code",
        "colab": {
          "base_uri": "https://localhost:8080/",
          "height": 34
        },
        "outputId": "59aa100a-bda2-4137-b4c9-db26c02bc31b"
      },
      "source": [
        "golAtmaOlasiligi = 0.1\n",
        "#(Tekrar Sayısı)\n",
        "n = 5 \n",
        "#(n denemede Başarı Sayılacak Sayı)\n",
        "x = 3 \n",
        "\n",
        "result = binomFunc(golAtmaOlasiligi, n, x)\n",
        "print(\"5 penaltının 3'nü gol atma olasılığı = \", result)\n"
      ],
      "execution_count": 14,
      "outputs": [
        {
          "output_type": "stream",
          "text": [
            "5 penaltının 3'nü gol atma olasılığı =  0.008100000000000001\n"
          ],
          "name": "stdout"
        }
      ]
    }
  ]
}