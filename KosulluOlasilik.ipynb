{
  "nbformat": 4,
  "nbformat_minor": 0,
  "metadata": {
    "colab": {
      "name": "KosulluOlasilik.ipynb",
      "provenance": [],
      "collapsed_sections": [],
      "authorship_tag": "ABX9TyNwS2PzB9rS6BVzw5p9INnp",
      "include_colab_link": true
    },
    "kernelspec": {
      "name": "python3",
      "display_name": "Python 3"
    }
  },
  "cells": [
    {
      "cell_type": "markdown",
      "metadata": {
        "id": "view-in-github",
        "colab_type": "text"
      },
      "source": [
        "<a href=\"https://colab.research.google.com/github/ugurozisikk/AyrikSistemler/blob/master/KosulluOlasilik.ipynb\" target=\"_parent\"><img src=\"https://colab.research.google.com/assets/colab-badge.svg\" alt=\"Open In Colab\"/></a>"
      ]
    },
    {
      "cell_type": "markdown",
      "metadata": {
        "id": "ttq1U3xK93od",
        "colab_type": "text"
      },
      "source": [
        "#**Soru**\n",
        "\n",
        "Karadenizde balıkçılıkla uğraşan 3 arkadaş(Okan,Mami,Uğur) balık tutmak için denize açılmıştır. Her biri tuttuğu balıkları önündeki kasaya koymaktadırlar. Tutulan balıkların cinsi ise hamsi ve istavrittir ve ağırlıkları eşittir. Her kasada hem hamsi hem de istavrit balığı vardır.\n",
        "\n",
        "![alt text](https://i2.cnnturk.com/i/cnnturk/75/1200x0/5c582b63ae784933486644f2.jpg)\n",
        "\n",
        " Balıkların;\n",
        "%10 = Okan , %20 = Mami, %70 = Uğur tuttuğu bilinmektedir. \n",
        "\n",
        "Sırasıyla bu balıklardaki hamsi oranları ise %30,%50,%40 olduğuna göre rastgele seçilen bir balığın istavrit olduğu bilindiğine göre seçilen balığın Uğur'un kasasından çıkma olasılığı nedir? "
      ]
    },
    {
      "cell_type": "markdown",
      "metadata": {
        "id": "2_EpOaPYAixe",
        "colab_type": "text"
      },
      "source": [
        "#**Çözüm**\n",
        "\n",
        "**Okan**(%10) -> %30 Hamsi - %70 İstavrit\n",
        "\n",
        "**Mami**(%20) -> %50 Hamsi - %50 İstavrit\n",
        "\n",
        "**Uğur**(%70) -> %40 Hamsi - %60 İstavrit\n",
        "\n",
        "Olasılık = (Uğur'un Balık Oranı x Uğurdaki istavrit oranı) / (İstavrit Oranı)\n",
        "\n",
        "Olasılık = (0.70 x 0.60) / ((0.10 x 0.70) + (0.20 x 0.50) + (0.70 x 0.60))\n",
        "\n",
        "\n"
      ]
    },
    {
      "cell_type": "markdown",
      "metadata": {
        "id": "IMdS6kHzCG3J",
        "colab_type": "text"
      },
      "source": [
        "#**Kod**"
      ]
    },
    {
      "cell_type": "code",
      "metadata": {
        "id": "ItGag4Y9CC7h",
        "colab_type": "code",
        "colab": {
          "base_uri": "https://localhost:8080/",
          "height": 34
        },
        "outputId": "41556797-a0e2-4ded-90d0-e859bc189649"
      },
      "source": [
        "#Balık Oranı, Hamsi Oranı, İstavrit Oranı \n",
        "OkanArray = [0.1, 0.3, 0.7]\n",
        "MamiArray = [0.2, 0.5, 0,5]\n",
        "UgurArray = [0.7, 0.4, 0.6]\n",
        "\n",
        "OkanIstavritOrani = OkanArray[0] * OkanArray[2]\n",
        "MamiIstavritOrani = MamiArray[0] * MamiArray[2]\n",
        "UgurIstavritOrani = UgurArray[0] * UgurArray[2]\n",
        "\n",
        "Result = UgurIstavritOrani / (OkanIstavritOrani + MamiIstavritOrani + UgurIstavritOrani)\n",
        "print(Result)"
      ],
      "execution_count": 8,
      "outputs": [
        {
          "output_type": "stream",
          "text": [
            "0.8571428571428571\n"
          ],
          "name": "stdout"
        }
      ]
    }
  ]
}