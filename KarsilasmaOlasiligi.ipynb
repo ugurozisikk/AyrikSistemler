{
  "nbformat": 4,
  "nbformat_minor": 0,
  "metadata": {
    "colab": {
      "name": "KarsilasmaOlasiligi.ipynb",
      "provenance": [],
      "collapsed_sections": []
    },
    "kernelspec": {
      "name": "python3",
      "display_name": "Python 3"
    }
  },
  "cells": [
    {
      "cell_type": "markdown",
      "metadata": {
        "id": "AXiNHEukzJu3",
        "colab_type": "text"
      },
      "source": [
        "## **Soru**\n"
      ]
    },
    {
      "cell_type": "markdown",
      "metadata": {
        "id": "BS6N3eIRzj2Z",
        "colab_type": "text"
      },
      "source": [
        "Türkiye'de bedelli askerlik yasasına göre belirli bir ücret ödeyen herkes TSK'nın belirleyeceği 30 şehirden birinde askerlik yapacaktır. Keşke Kocaeli,İstanbul,Sakarya'dan biri kesin 30 il arasındadır diyen birinin bu söyleminin doğru olma olasılığı nedir?\n"
      ]
    },
    {
      "cell_type": "markdown",
      "metadata": {
        "id": "DnF7boTW0ob3",
        "colab_type": "text"
      },
      "source": [
        "# ***Çözüm***\n"
      ]
    },
    {
      "cell_type": "markdown",
      "metadata": {
        "id": "zu6qy8HJ0rZj",
        "colab_type": "text"
      },
      "source": [
        "**S(A) = İstenen durumlar**\n",
        "\n",
        "**S(E) = Tüm durumlar**\n",
        "\n",
        "**İl Sayısı = 81**\n",
        "\n",
        "**İstenilen İller = 3 (Kocaeli,Sakarya,İstanbul)** \n",
        "\n",
        "P(A) = İstenmeyen Durum \n",
        "\n",
        "S(A) = Kombinasyon(81 - 3)(30)\n",
        "\n",
        "S(E) = Kombinasyon(81)(30)\n",
        "\n",
        "P(A) = S(A) / S(E)\n",
        "\n",
        "Result = 1 - P(A)\n",
        "\n",
        "\n"
      ]
    },
    {
      "cell_type": "markdown",
      "metadata": {
        "id": "ZmiRIBbT7ViR",
        "colab_type": "text"
      },
      "source": [
        "# Kod\n"
      ]
    },
    {
      "cell_type": "markdown",
      "metadata": {
        "id": "Vpjf_h1r7bsR",
        "colab_type": "text"
      },
      "source": [
        "**Faktoriyel Fonksiyonu**"
      ]
    },
    {
      "cell_type": "code",
      "metadata": {
        "id": "WGVPwZqz7YD_",
        "colab_type": "code",
        "colab": {}
      },
      "source": [
        "def Faktoriyel(i):\n",
        "    if i==1:       \n",
        "        return 1\n",
        "    else: \n",
        "        return i * Faktoriyel(i-1)"
      ],
      "execution_count": 0,
      "outputs": []
    },
    {
      "cell_type": "markdown",
      "metadata": {
        "id": "RwAbwN7B7qBR",
        "colab_type": "text"
      },
      "source": [
        "**Kombinasyon Kodu**"
      ]
    },
    {
      "cell_type": "code",
      "metadata": {
        "id": "7ttk2xlM7we1",
        "colab_type": "code",
        "colab": {}
      },
      "source": [
        "def Kombinasyon(n,r):\n",
        "    return int(Faktoriyel(n)/(Faktoriyel(n-r)*Faktoriyel(r)))"
      ],
      "execution_count": 0,
      "outputs": []
    },
    {
      "cell_type": "markdown",
      "metadata": {
        "id": "8ldzUL7x77PX",
        "colab_type": "text"
      },
      "source": [
        "**Sonuç**\n"
      ]
    },
    {
      "cell_type": "code",
      "metadata": {
        "id": "X-EDd6OG8Usc",
        "colab_type": "code",
        "colab": {
          "base_uri": "https://localhost:8080/",
          "height": 84
        },
        "outputId": "95f1c7fd-4fe8-446c-a767-ee181da13800"
      },
      "source": [
        "toplamIlSayisi = 81\n",
        "TSKSecilen = 30\n",
        "kendiTercihim = 3\n",
        "\n",
        "sA = Kombinasyon(toplamIlSayisi - kendiTercihim, TSKSecilen)\n",
        "sE = Kombinasyon(toplamIlSayisi, TSKSecilen)\n",
        "\n",
        "result = 1 - (sA / sE)\n",
        "\n",
        "print('s(A) = ',sA)\n",
        "print('s(E) = ',sE)\n",
        "\n",
        "print ('İstenmeyen Durum = ',sA / sE)\n",
        "\n",
        "print('Sonuc = ', result)"
      ],
      "execution_count": 23,
      "outputs": [
        {
          "output_type": "stream",
          "text": [
            "s(A) =  3439076061765682331648\n",
            "s(E) =  14089890496511307939840\n",
            "İstenmeyen Durum =  0.24408110642287859\n",
            "Sonuc =  0.7559188935771214\n"
          ],
          "name": "stdout"
        }
      ]
    }
  ]
}